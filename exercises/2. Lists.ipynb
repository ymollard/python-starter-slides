{
 "cells": [
  {
   "cell_type": "markdown",
   "metadata": {},
   "source": [
    "# Dealing with Python Lists\n",
    "\n",
    "\n",
    "## What is an iterable?\n",
    "\n",
    "Python calls an **iterable** all data structures that can store and browser them each one after the other (what is named **iterate**. For instance, a list of integers is an iterable.\n",
    "\n",
    "The following iterable types are frequent in Python programs:\n",
    "\n",
    "* The `list` type (or `[]`) is central within Python. It is available with no need to import any module, just by using square brackets. \n",
    "* The `dict` type (or `{}`), is almost as important as lists in Python\n",
    "* The `tuple`, that is the Python strict equivalent for \"arrays\" in other languages, ispreffered to the list when performance matter\n",
    "* The `set` type (or `{}`) is less common, it represents an unordered set of values.\n",
    "\n",
    "Let's start with the most important type in Python: the list!"
   ]
  },
  {
   "cell_type": "markdown",
   "metadata": {},
   "source": [
    "## 2.1. Manipulate a list \n",
    "\n",
    "Declare the following list representing marks of a student exam (min is 0/20, max is 20/20):"
   ]
  },
  {
   "cell_type": "code",
   "execution_count": null,
   "metadata": {},
   "outputs": [],
   "source": [
    "marks = [14, 15.4, 11, 19, 17.5, 19.5, 9, 16, 15, 14, 8, 10, 14, 12, 8.5]"
   ]
  },
  {
   "cell_type": "markdown",
   "metadata": {},
   "source": [
    "Use `help(f)` to get help about a specific funciton named `f` (for instance `help(len)` or `help(marks.append)`) and then answer the following questions:"
   ]
  },
  {
   "cell_type": "markdown",
   "metadata": {},
   "source": [
    "Use function `len()` to get the number of marks within the list:"
   ]
  },
  {
   "cell_type": "code",
   "execution_count": null,
   "metadata": {},
   "outputs": [],
   "source": []
  },
  {
   "cell_type": "markdown",
   "metadata": {},
   "source": [
    "Use `sum()` and `len()` functions to get the mean of all marks:"
   ]
  },
  {
   "cell_type": "code",
   "execution_count": null,
   "metadata": {},
   "outputs": [],
   "source": []
  },
  {
   "cell_type": "markdown",
   "metadata": {},
   "source": [
    "Use `min()` and `max()` functions to get minimum and maximum marks from the list:"
   ]
  },
  {
   "cell_type": "code",
   "execution_count": null,
   "metadata": {},
   "outputs": [],
   "source": []
  },
  {
   "cell_type": "markdown",
   "metadata": {},
   "source": [
    "Select the very first mark (i.e. the mark at position zero):"
   ]
  },
  {
   "cell_type": "code",
   "execution_count": null,
   "metadata": {},
   "outputs": [],
   "source": []
  },
  {
   "cell_type": "markdown",
   "metadata": {},
   "source": [
    "Try to access an index exceeding the number of marks in the list.\n",
    "What is the type of the raised exception?"
   ]
  },
  {
   "cell_type": "code",
   "execution_count": null,
   "metadata": {},
   "outputs": [],
   "source": []
  },
  {
   "cell_type": "markdown",
   "metadata": {},
   "source": [
    "Access the last mark fmro the list (i.e. the mark at position -1)\n",
    "Then try the second to last (-2) and pursue in reverse way... How far can we go?"
   ]
  },
  {
   "cell_type": "code",
   "execution_count": null,
   "metadata": {},
   "outputs": [],
   "source": []
  },
  {
   "cell_type": "markdown",
   "metadata": {},
   "source": [
    "What is the type of the expression `20 in marks`? What is its value? Why does it have this value?"
   ]
  },
  {
   "cell_type": "code",
   "execution_count": null,
   "metadata": {},
   "outputs": [],
   "source": []
  },
  {
   "cell_type": "markdown",
   "metadata": {},
   "source": [
    "## 2.2. Modify a list\n",
    "\n",
    "Let's work again with the `marks` list and modify it."
   ]
  },
  {
   "cell_type": "code",
   "execution_count": null,
   "metadata": {},
   "outputs": [],
   "source": [
    "marks = [14, 15.4, 11, 19, 17.5, 19.5, 9, 16, 15, 14, 8, 10, 14, 12, 7.5]"
   ]
  },
  {
   "cell_type": "markdown",
   "metadata": {},
   "source": [
    "Use the method `marks.append()` to add the mark 20 in the last position of `marks`:"
   ]
  },
  {
   "cell_type": "code",
   "execution_count": null,
   "metadata": {},
   "outputs": [],
   "source": []
  },
  {
   "cell_type": "markdown",
   "metadata": {},
   "source": [
    "Check that expression `20 in marks` is correct and that the mean of the class is now higher:"
   ]
  },
  {
   "cell_type": "code",
   "execution_count": null,
   "metadata": {},
   "outputs": [],
   "source": []
  },
  {
   "cell_type": "markdown",
   "metadata": {},
   "source": [
    "Use method `marks.insert(position, value)` to insert the mark 19 at the first first position:"
   ]
  },
  {
   "cell_type": "code",
   "execution_count": null,
   "metadata": {},
   "outputs": [],
   "source": []
  },
  {
   "cell_type": "markdown",
   "metadata": {},
   "source": [
    "Sort all marks by ascending order with function `sorted(marks)`. And try the method `marks.sort()`... what is the difference between these two? Complete the sentences as an answer."
   ]
  },
  {
   "cell_type": "code",
   "execution_count": null,
   "metadata": {},
   "outputs": [],
   "source": []
  },
  {
   "cell_type": "markdown",
   "metadata": {},
   "source": [
    "* `sorted(marks)` has sorted [...]\n",
    "* `marks.sort()` has sorted [...]"
   ]
  },
  {
   "cell_type": "markdown",
   "metadata": {},
   "source": [
    "Reverse the list with function `reversed(marks)` so that higher marks appear first. What is the difference with `marks.reverse()`?"
   ]
  },
  {
   "cell_type": "code",
   "execution_count": null,
   "metadata": {},
   "outputs": [],
   "source": []
  },
  {
   "cell_type": "markdown",
   "metadata": {},
   "source": [
    "* `reveresed(marks)` has reversed [...]\n",
    "* `marks.reverse()` has reversed [...]"
   ]
  },
  {
   "cell_type": "markdown",
   "metadata": {},
   "source": [
    "Delete 3 marks of your choice with 3 different functions presented hereunder and explain their difference:"
   ]
  },
  {
   "cell_type": "code",
   "execution_count": null,
   "metadata": {},
   "outputs": [],
   "source": []
  },
  {
   "cell_type": "code",
   "execution_count": null,
   "metadata": {},
   "outputs": [],
   "source": []
  },
  {
   "cell_type": "code",
   "execution_count": null,
   "metadata": {},
   "outputs": [],
   "source": []
  },
  {
   "cell_type": "markdown",
   "metadata": {},
   "source": [
    "* `marks.remove()` has deleted [...]\n",
    "* `marks.pop()` has deleted [...]\n",
    "* `del` has deleted [...]\n"
   ]
  },
  {
   "cell_type": "markdown",
   "metadata": {},
   "source": [
    "Among these 3 deleting functions, which one seems performing less than other ones when working with a list of a billion elements and why?"
   ]
  },
  {
   "cell_type": "markdown",
   "metadata": {},
   "source": [
    "The less performing method is [...] because [...]"
   ]
  },
  {
   "cell_type": "markdown",
   "metadata": {},
   "source": [
    "## 2.3. Iterable slicing\n",
    "\n",
    "The slicing operation returns a copy of a list by excluding some values, according to the start and end indexes. Here is the simplified documentation:\n",
    "```\n",
    "list[start:end] # items start through end (excluded)\n",
    "list[start:]    # items start through the rest of the list\n",
    "list[:end]      # items from the beginning through end (excluded)\n",
    "list[:]         # a copy of the whole list\n",
    "```"
   ]
  },
  {
   "cell_type": "markdown",
   "metadata": {},
   "source": [
    "In a single line of code, get in a new list named `three_best_marks` the 3 best marks. Protip: use a sorted and reversed list of marks."
   ]
  },
  {
   "cell_type": "code",
   "execution_count": null,
   "metadata": {},
   "outputs": [],
   "source": [
    "# My single-line Python code here"
   ]
  },
  {
   "cell_type": "markdown",
   "metadata": {},
   "source": [
    "In a single line of code, get in a new list named `acceptable_marks` all markes except the 3 worse."
   ]
  },
  {
   "cell_type": "code",
   "execution_count": null,
   "metadata": {},
   "outputs": [],
   "source": [
    "# My single-line Python code here"
   ]
  },
  {
   "cell_type": "markdown",
   "metadata": {},
   "source": [
    "Have a look at the length of `marks` and tell what you would expect from this slicing: `marks[:-20]`? Test and observe what it returned instead. Fill in the 3 bullet points as an answer."
   ]
  },
  {
   "cell_type": "code",
   "execution_count": null,
   "metadata": {},
   "outputs": [],
   "source": [
    "# My Python code here"
   ]
  },
  {
   "cell_type": "markdown",
   "metadata": {},
   "source": [
    "* `marks[:-20]` is the slicing returning all elemnts from `marks` until [...] starting from [...]\n",
    "* I would expect `marks[:-20]` to return [...]\n",
    "* Now I have tried, `marks[:-20]` finally returns [...]"
   ]
  },
  {
   "cell_type": "markdown",
   "metadata": {},
   "source": [
    "## 2.4. browse a list with a loop\n",
    "\n",
    "Since a list is an **iterable** type hence we can **iterate** on it with a `for` or `while` loop.\n",
    "\n",
    "* `for` is to be used when you know the loop number in advance (e.g. repeat 1000 times ; or repeat L times, N being the length of a list)\n",
    "* `while` is to be used otherwise \n",
    "\n",
    "Let's work again with the `marks` list, neither reversed nor sorted:"
   ]
  },
  {
   "cell_type": "code",
   "execution_count": null,
   "metadata": {},
   "outputs": [],
   "source": [
    "marks = [14, 15.4, 11, 19, 17.5, 19.5, 9, 16, 15, 14, 8, 10, 14, 12, 8.5]"
   ]
  },
  {
   "cell_type": "markdown",
   "metadata": {},
   "source": [
    "### 2.4.1. The `for` loop: when you know in advance the number of loops"
   ]
  },
  {
   "cell_type": "markdown",
   "metadata": {},
   "source": [
    "The most popular syntax to iterate on a list **with a `for` loop and no index** is the following (let's name in **syntax A**) :"
   ]
  },
  {
   "cell_type": "code",
   "execution_count": null,
   "metadata": {},
   "outputs": [],
   "source": [
    "# Syntax A\n",
    "for mark in marks:\n",
    "    print(\"The mark is\", mark)"
   ]
  },
  {
   "cell_type": "markdown",
   "metadata": {},
   "source": [
    "The most popular syntax to iterate on a list **with a `for` loop and an index** is the following (let's name in **syntax B**) :"
   ]
  },
  {
   "cell_type": "code",
   "execution_count": null,
   "metadata": {},
   "outputs": [],
   "source": [
    "# Syntax B\n",
    "for i in range(0, len(marks)):\n",
    "    print(\"The mark is\", marks[i])"
   ]
  },
  {
   "cell_type": "markdown",
   "metadata": {},
   "source": [
    "Now use syntax A or B, to display all marks on screen, with a different message for each, according if the mark allow to pass the exam (>=12), requires a re-take exam (>=9) or if the student failed the exam."
   ]
  },
  {
   "cell_type": "code",
   "execution_count": null,
   "metadata": {},
   "outputs": [],
   "source": [
    "# My own loop with syntax A or B here"
   ]
  },
  {
   "cell_type": "markdown",
   "metadata": {},
   "source": [
    "The teacher is nice, (s)he decides to add 1 point to all students. Which syntax A or B looks the best so that the list is permanently modified?"
   ]
  },
  {
   "cell_type": "markdown",
   "metadata": {},
   "source": [
    "* The syntax [...A or B...] is the most appropriate to perform modifications on the list"
   ]
  },
  {
   "cell_type": "markdown",
   "metadata": {},
   "source": [
    "Now actually modify the list so that every student gets an additional point. Be careful: no mark can exceed 20/20:"
   ]
  },
  {
   "cell_type": "code",
   "execution_count": null,
   "metadata": {},
   "outputs": [],
   "source": [
    "# My code here"
   ]
  },
  {
   "cell_type": "markdown",
   "metadata": {},
   "source": [
    "### 2.4.2. The `while` loop: when you do not know in advance the number of loops"
   ]
  },
  {
   "cell_type": "markdown",
   "metadata": {},
   "source": [
    "With an unsorted, unreversed `marks` list and a `while` loop, display the first mark below 10/20.\n",
    "\n",
    "Make sure your loop has no chance to access elements beyond the end of the list."
   ]
  },
  {
   "cell_type": "code",
   "execution_count": null,
   "metadata": {},
   "outputs": [],
   "source": [
    "marks = [14, 15.4, 11, 19, 17.5, 19.5, 9, 16, 15, 14, 8, 10, 14, 12, 8.5]"
   ]
  },
  {
   "cell_type": "code",
   "execution_count": null,
   "metadata": {},
   "outputs": [],
   "source": [
    "# My code here [...]"
   ]
  }
 ],
 "metadata": {
  "kernelspec": {
   "display_name": "Python 3",
   "language": "python",
   "name": "python3"
  },
  "language_info": {
   "codemirror_mode": {
    "name": "ipython",
    "version": 3
   },
   "file_extension": ".py",
   "mimetype": "text/x-python",
   "name": "python",
   "nbconvert_exporter": "python",
   "pygments_lexer": "ipython3",
   "version": "3.8.10"
  }
 },
 "nbformat": 4,
 "nbformat_minor": 4
}
