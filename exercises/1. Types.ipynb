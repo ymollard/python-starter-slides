{
 "cells": [
  {
   "cell_type": "markdown",
   "metadata": {},
   "source": [
    "# Dealing with Python types and primitive types"
   ]
  },
  {
   "cell_type": "markdown",
   "metadata": {},
   "source": [
    "## 1.1. Introspection with `type()`\n",
    "For each value in the table hereunder, determine its type with the help of function `type()` in a Python cell and fill in the corresponding type in the table."
   ]
  },
  {
   "cell_type": "code",
   "execution_count": null,
   "metadata": {},
   "outputs": [],
   "source": [
    "# Type your Python code in this cell and press Shift + Enter to run it avec Maj+Entrée\n",
    "type(-10)\n",
    "# Use as many cells as necessary and clean them/refill them as many times as necessary"
   ]
  },
  {
   "cell_type": "markdown",
   "metadata": {},
   "source": [
    "\n",
    "|                Value                 |    Corresponding type    |\n",
    "|:------------------------------------:|:------------------------:|\n",
    "| `-10`                                |  int (unbound integer) |\n",
    "| `int(9e99)`                          |  int (unbound integer) |\n",
    "| `1.5`                                | float (double precision) |\n",
    "| `float('inf')`                       | float (double precision) |\n",
    "| `float('nan')`                       | float (double precision) |\n",
    "| `True`                               |            [...]         |\n",
    "| `10 == 9`                            |            [...]         |\n",
    "| `1 < 2 < 3`                          |            [...]         |\n",
    "| `'Hello world'`                      |            [...]         |\n",
    "| `\"Hello world\"`                      |            [...]         |\n",
    "| `\"\\u0041\"`                           |            [...]         |\n",
    "| `b\"Hello world\"`                     |            [...]         |\n",
    "| `(1, 2.0, \"Bob\")`                    |            [...]         |\n",
    "| `[\"foo\", \"bar\", 18]`                 |            [...]         |\n",
    "| `{\"Bob\": 140, \"Luc\": 190, -9: 100}`  |            [...]         |\n",
    "| `{\"Bob\", 900, \"Luc\", 150, -4, 500}`  |            [...]         |\n",
    "| `None`                               |            [...]         |\n",
    "| `1 + 1j`                             |            [...]         |"
   ]
  },
  {
   "cell_type": "markdown",
   "metadata": {},
   "source": [
    "## 1.2. Introspection with `isinstance` (and `print`)\n",
    "\n",
    "Use `isinstance(value, type)` to display the sentence \"Your value is an integer\" if it's an `int` ; or \"your value is a real\" when it is a `float` ; or \"Other type\" otherwise."
   ]
  },
  {
   "cell_type": "code",
   "execution_count": null,
   "metadata": {},
   "outputs": [],
   "source": [
    "# Your Python code here"
   ]
  },
  {
   "cell_type": "markdown",
   "metadata": {},
   "source": [
    "## 1.3. Operators\n",
    "\n",
    "Trivial operators are + - * / %\n",
    "\n",
    "Let's discover some other, with these interesting operators. Test the operation and name it with your words:\n",
    "\n",
    "|                  Operation                 |       Operation name       |\n",
    "|:------------------------------------------:|:--------------------------:|\n",
    "| `10 ** 2`                                  |            Power           |\n",
    "| `5 / 2`                                    |            [...]           |\n",
    "| `5 // 2`                                   |            [...]           |\n",
    "| `5 % 2`                                    |            [...]           |\n",
    "| `\"Hello\"[2]`                               |            [...]           |\n",
    "| `[\"Hello\", \"world\"][1]`                    |            [...]           |\n",
    "| `{\"Luka\" : 145, \"Mark\" : 150}[\"Mark\"]`     |            [...]           |\n",
    "| `\"H\" + \"el\" + \"lo\"`                        |            [...]           |\n",
    "| `[1, 2, 3] + [10, 20, 30]`                 |            [...]           |\n",
    "| `5 * [1, 2, 3]`                            |            [...]           |\n",
    "| `5 * \"Hello \"`                             |            [...]           |"
   ]
  },
  {
   "cell_type": "code",
   "execution_count": null,
   "metadata": {},
   "outputs": [],
   "source": [
    "# Your Python code here"
   ]
  },
  {
   "cell_type": "markdown",
   "metadata": {},
   "source": [
    "## 1.4. Casts and truth value\n",
    "\n",
    "Execute the proposed conversions in the table hereunder with values of your choice and describe their behavior in the right column.\n",
    "\n",
    "|                Conversion                |                  Behaviour                  |\n",
    "|:----------------------------------------:|:-------------------------------------------:|\n",
    "|Float → Integer                           |           Truncation (rounded down)         |\n",
    "|String → List                             |                    [...]                    |\n",
    "|List of 2-tuple → Dictionary              |                    [...]                    |\n",
    "|Non-empty list → Boolean                  |                    [...]                    |\n",
    "|Empty list → Boolean                      |                    [...]                    |\n",
    "|Non-empty dictionary → Boolean            |                    [...]                    |\n",
    "|Empty dictionary → Boolean                |                    [...]                    |\n",
    "|Integer → Boolean                         |                    [...]                    |\n",
    "|Float → Boolean                           |                    [...]                    |\n",
    "|Boolean → Integer                         |                    [...]                    |"
   ]
  },
  {
   "cell_type": "code",
   "execution_count": null,
   "metadata": {},
   "outputs": [],
   "source": [
    "# Your Python code here"
   ]
  }
 ],
 "metadata": {
  "kernelspec": {
   "display_name": "Python 3",
   "language": "python",
   "name": "python3"
  },
  "language_info": {
   "codemirror_mode": {
    "name": "ipython",
    "version": 3
   },
   "file_extension": ".py",
   "mimetype": "text/x-python",
   "name": "python",
   "nbconvert_exporter": "python",
   "pygments_lexer": "ipython3",
   "version": "3.8.10"
  }
 },
 "nbformat": 4,
 "nbformat_minor": 4
}
