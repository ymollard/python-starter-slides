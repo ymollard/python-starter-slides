{
 "cells": [
  {
   "cell_type": "markdown",
   "metadata": {},
   "source": [
    "# Dealing with Python Dictionaries"
   ]
  },
  {
   "cell_type": "markdown",
   "metadata": {},
   "source": [
    "A dicitonary is an ordered (*) data structure associating a value to each unique key (very often, a key is of type `str` or `int`).\n",
    "A dictionary can mix any type of data (as soon as they are hashable) and any type of associated value"
   ]
  },
  {
   "cell_type": "markdown",
   "metadata": {},
   "source": [
    "(*) _Before Python 3.8, dictionaries were unordered and the preservation of the insertion order was not guaranteed_"
   ]
  },
  {
   "cell_type": "markdown",
   "metadata": {},
   "source": [
    "For instance:"
   ]
  },
  {
   "cell_type": "code",
   "execution_count": null,
   "metadata": {},
   "outputs": [],
   "source": [
    "d = {\"Luke\": 13, \"Brenda\": None, 42: \"The Ultimate Answer to Life, the Universe and Everything\"}"
   ]
  },
  {
   "cell_type": "markdown",
   "metadata": {},
   "source": [
    "In the following exercise, instead of setting the values by hand as we did for `d`, we will generate a dictionary associating, for each student name, the mark (s)he got to an exam.\n",
    "\n",
    "To do so, start with 2 different lists of names and marks being respectively:\n",
    "* a list of 10 first names (these should do the job: Bob, Alice, Maria, Albert, Paul, Alex, Luc, Robert, Dylan, Léa)\n",
    "* a list of 15 marks that you choose yourself among 0 and 20 (or between 10 and 20 if you are nice)\n",
    "\n",
    "Enter the initial values in the 2 lists hereunder:"
   ]
  },
  {
   "cell_type": "code",
   "execution_count": null,
   "metadata": {},
   "outputs": [],
   "source": [
    "names = # here the list of first names\n",
    "marks = # here the list of marks"
   ]
  },
  {
   "cell_type": "markdown",
   "metadata": {},
   "source": [
    "The following assertions allow to check that your list match with the requirements of the wording. If no error happens when you run this cell, it means that everything is alright."
   ]
  },
  {
   "cell_type": "code",
   "execution_count": null,
   "metadata": {},
   "outputs": [],
   "source": [
    "assert len(names) == 10\n",
    "assert len(marks) == 15"
   ]
  },
  {
   "cell_type": "markdown",
   "metadata": {},
   "source": [
    "First, using the slicing notation, slice 10 marks and 10 names among the 15 you've entered (this is just a revision of the slicing notation):"
   ]
  },
  {
   "cell_type": "code",
   "execution_count": null,
   "metadata": {},
   "outputs": [],
   "source": [
    "# My slicing here [...]"
   ]
  },
  {
   "cell_type": "markdown",
   "metadata": {},
   "source": [
    "Use `zip()` and `dict()` functions to generate a dictionary of 10 items, associating, for each student name, a mark from your list:\n",
    "\n",
    "_Note_ : name this dictionary `marks` again, even though the type has changed. In Python, duck typing allows a variable type to change during runtime."
   ]
  },
  {
   "cell_type": "code",
   "execution_count": null,
   "metadata": {},
   "outputs": [],
   "source": [
    "# My code generating the dictionary here [...]"
   ]
  },
  {
   "cell_type": "markdown",
   "metadata": {},
   "source": [
    "1 point was missing for Alex's exam: fix it by adding 1 point to his note stored in the dictionary. \n",
    "\n",
    "This requires to **select** an element in the dictionary. The operator used for that is the same as making a selection in a list."
   ]
  },
  {
   "cell_type": "code",
   "execution_count": null,
   "metadata": {},
   "outputs": [],
   "source": [
    "# My code adding 1 point to Alex here [...]"
   ]
  },
  {
   "cell_type": "markdown",
   "metadata": {},
   "source": [
    "The operator `in` also works for dictionaries, it applies to keys. With this operator, check if \"Laurent\" has a mark in the dictionary."
   ]
  },
  {
   "cell_type": "code",
   "execution_count": null,
   "metadata": {},
   "outputs": [],
   "source": [
    "# The code to check if Laurent is present in the dictionary"
   ]
  },
  {
   "cell_type": "markdown",
   "metadata": {},
   "source": [
    "Laurent has no mark, but it is a mistake, Laurent, which scored 13/20, must have his mark in the dicitonary. Add this new entry to the dictionary:\n"
   ]
  },
  {
   "cell_type": "code",
   "execution_count": null,
   "metadata": {},
   "outputs": [],
   "source": [
    "# The code to add an unexisting mark in the dictionary here [...]"
   ]
  },
  {
   "cell_type": "markdown",
   "metadata": {},
   "source": [
    "Oops, the marks of George, Luka and Aaron are also missing. Use the method `marks.update()` to update the dictionary with these 3 marks, knowing that Luka and Aaron both scored 13 and George missed the exam, so we will give him the mark `None`.\n",
    "\n",
    "_Note_: `update` allows to **merge** two dictionaries. The first is updated with values from the second."
   ]
  },
  {
   "cell_type": "code",
   "execution_count": null,
   "metadata": {},
   "outputs": [],
   "source": [
    "# My code merging 2 dictionaries here [...]"
   ]
  },
  {
   "cell_type": "markdown",
   "metadata": {},
   "source": [
    "With `in` and `marks.values()`, check if any student scored 20/20."
   ]
  },
  {
   "cell_type": "code",
   "execution_count": null,
   "metadata": {},
   "outputs": [],
   "source": [
    "# My check code here"
   ]
  },
  {
   "cell_type": "markdown",
   "metadata": {},
   "source": [
    "**Note**: Here, using `in` means testing the equality with every value extracted from the dictionary. This values could be a float, so we should not do this!"
   ]
  },
  {
   "cell_type": "markdown",
   "metadata": {},
   "source": [
    "With a list-comprehension and `dict.values()`, extract all values above 10/20. The result must be a list.\n",
    "\n",
    "**Note** : `None` is not a mark above 10/20, you must exclude it from the list as well..."
   ]
  },
  {
   "cell_type": "code",
   "execution_count": null,
   "metadata": {},
   "outputs": [],
   "source": [
    "# My list-comprehension here [...]"
   ]
  },
  {
   "cell_type": "markdown",
   "metadata": {},
   "source": [
    "With a dict-comprehension, create the dictionary that stores only students who scored below 10/20. The result must be a dict."
   ]
  },
  {
   "cell_type": "code",
   "execution_count": null,
   "metadata": {},
   "outputs": [],
   "source": [
    "# My dict-comprehension here [...]"
   ]
  },
  {
   "cell_type": "markdown",
   "metadata": {},
   "source": [
    "Compute the mean of marks from this dicitonary. Be careful, the `None` may disturb you."
   ]
  },
  {
   "cell_type": "code",
   "execution_count": null,
   "metadata": {},
   "outputs": [],
   "source": [
    "# My code here computing the mean and excluding the NoneTypes [...]"
   ]
  },
  {
   "cell_type": "markdown",
   "metadata": {},
   "source": [
    "## Conclusion of exercises 2 and 3 about iterables "
   ]
  },
  {
   "cell_type": "markdown",
   "metadata": {},
   "source": [
    "We manipulated the most important data structures in Python: lists and dicts. But other ones exist, ordered or unordered, according to the needs. \n",
    "\n",
    "In module `collections` there are for instance the following types:\n",
    "\n",
    "* `collections.deque` (a queue)\n",
    "* `collections.OrderedDict` (an ordered dictionary)\n",
    "* `collections.namedtuple` (a named tuple, that can be seen as an equivalent to the `struct` type in C)"
   ]
  },
  {
   "cell_type": "markdown",
   "metadata": {},
   "source": [
    "Final note: It is very pythonic to prefer using lists and dictionaries to store data instead of other methods (objects, arrays, ...)"
   ]
  }
 ],
 "metadata": {
  "kernelspec": {
   "display_name": "Python 3",
   "language": "python",
   "name": "python3"
  },
  "language_info": {
   "codemirror_mode": {
    "name": "ipython",
    "version": 3
   },
   "file_extension": ".py",
   "mimetype": "text/x-python",
   "name": "python",
   "nbconvert_exporter": "python",
   "pygments_lexer": "ipython3",
   "version": "3.8.10"
  }
 },
 "nbformat": 4,
 "nbformat_minor": 4
}
