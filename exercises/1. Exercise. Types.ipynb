{
 "cells": [
  {
   "cell_type": "markdown",
   "metadata": {},
   "source": [
    "# Dealing with Python types and primitive types"
   ]
  },
  {
   "cell_type": "markdown",
   "metadata": {},
   "source": [
    "## 1.1. Introspection with `type()`\n",
    "For each value in the table hereunder, determine its type with the help of function `type()` in a Python cell and fill in the corresponding type in the table."
   ]
  },
  {
   "cell_type": "code",
   "execution_count": null,
   "metadata": {},
   "outputs": [],
   "source": [
    "# Type your Python code in this cell and press Shift + Enter to run it avec Maj+Entrée\n",
    "type(-10)\n",
    "# Use as many cells as necessary and clean them/refill them as many times as necessary"
   ]
  },
  {
   "cell_type": "markdown",
   "metadata": {},
   "source": [
    "\n",
    "|                Value                 |    Corresponding type    |\n",
    "|:------------------------------------:|:------------------------:|\n",
    "| `-10`                                |  int (unbounded integer) |\n",
    "| `int(9e99)`                          |  int (unbounded integer) |\n",
    "| `1.5`                                | float (double precision) |\n",
    "| `float('inf')`                       | float (double precision) |\n",
    "| `float('nan')`                       | float (double precision) |\n",
    "| `True`                               |            [...]         |\n",
    "| `10 == 9`                            |            [...]         |\n",
    "| `1 < 2 < 3`                          |            [...]         |\n",
    "| `'Hello world'`                      |            [...]         |\n",
    "| `\"Hello world\"`                      |            [...]         |\n",
    "| `\"\\u0041\"`                           |            [...]         |\n",
    "| `b\"Hello world\"`                     |            [...]         |\n",
    "| `(1, 2.0, \"Bob\")`                    |            [...]         |\n",
    "| `[\"foo\", \"bar\", 18]`                 |            [...]         |\n",
    "| `{\"Bob\": 140, \"Luc\": 190, -9: 100}`  |            [...]         |\n",
    "| `{\"Bob\", 900, \"Luc\", 150, -4, 500}`  |            [...]         |\n",
    "| `None`                               |            [...]         |\n",
    "| `1 + 1j`                             |            [...]         |"
   ]
  },
  {
   "cell_type": "markdown",
   "metadata": {},
   "source": [
    "## 1.2. Introspection with `isinstance` (and `print`)\n",
    "\n",
    "Use `isinstance(value, type)` to display the sentence \"Your value is an integer\" if it's an `int` ; or \"your value is a real\" when it is a `float` ; or \"Other type\" otherwise."
   ]
  },
  {
   "cell_type": "code",
   "execution_count": null,
   "metadata": {},
   "outputs": [],
   "source": [
    "# Your Python code here"
   ]
  },
  {
   "cell_type": "markdown",
   "metadata": {},
   "source": [
    "## 1.3. Operators\n",
    "\n",
    "Trivial operators are + - * / %\n",
    "\n",
    "Let's discover some other, with these interesting operators. Test the operation and name it with your words:\n",
    "\n",
    "|                  Operation                 |       Operation name       |\n",
    "|:------------------------------------------:|:--------------------------:|\n",
    "| `10 ** 2`                                  |            Power           |\n",
    "| `5 / 2`                                    |            [...]           |\n",
    "| `5 // 2`                                   |            [...]           |\n",
    "| `5 % 2`                                    |            [...]           |\n",
    "| `\"Hello\"[2]`                               |            [...]           |\n",
    "| `[\"Hello\", \"world\"][1]`                    |            [...]           |\n",
    "| `{\"Luka\" : 145, \"Mark\" : 150}[\"Mark\"]`     |            [...]           |\n",
    "| `\"H\" + \"el\" + \"lo\"`                        |            [...]           |\n",
    "| `[1, 2, 3] + [10, 20, 30]`                 |            [...]           |\n",
    "| `5 * [1, 2, 3]`                            |            [...]           |\n",
    "| `5 * \"Hello \"`                             |            [...]           |"
   ]
  },
  {
   "cell_type": "code",
   "execution_count": null,
   "metadata": {},
   "outputs": [],
   "source": [
    "# Your Python code here"
   ]
  },
  {
   "cell_type": "markdown",
   "metadata": {},
   "source": [
    "## 1.4. Casts and truth value\n",
    "\n",
    "Execute the proposed conversions in the table hereunder with values of your choice and describe their behavior in the right column.\n",
    "\n",
    "|                Conversion                |                  Behaviour                  |\n",
    "|:----------------------------------------:|:-------------------------------------------:|\n",
    "|Float → Integer                           |           Truncation (rounded down)         |\n",
    "|String → List                             |                    [...]                    |\n",
    "|List of 2-tuple → Dictionary              |                    [...]                    |\n",
    "|Non-empty list → Boolean                  |                    [...]                    |\n",
    "|Empty list → Boolean                      |                    [...]                    |\n",
    "|Non-empty dictionary → Boolean            |                    [...]                    |\n",
    "|Empty dictionary → Boolean                |                    [...]                    |\n",
    "|Integer → Boolean                         |                    [...]                    |\n",
    "|Float → Boolean                           |                    [...]                    |\n",
    "|Boolean → Integer                         |                    [...]                    |"
   ]
  },
  {
   "cell_type": "code",
   "execution_count": null,
   "metadata": {},
   "outputs": [],
   "source": [
    "# Your Python code here"
   ]
  },
  {
   "cell_type": "markdown",
   "metadata": {},
   "source": [
    "## 1.5. Drawback of floats\n",
    "\n",
    "### 1.5.1. Equality with floats\n",
    "\n",
    "In general, testing the equality of floats, for instance `float1 == float2` is a bad idea.\n",
    "To see an illustration, just test if the truth value of `1.1 - 0.2 == 0.9` is true.\n",
    "\n",
    "In practice, it is safer to test an approached equality with function `isclose(a, b)`.\n",
    "\n",
    "This function requires to be imported from module `math`.\n",
    "\n",
    "First, import this module with statement `import math` and then check if `1.1 - 0.2` is approximately equal to `0.9` with function `isclose` as in the cell below:"
   ]
  },
  {
   "cell_type": "code",
   "execution_count": null,
   "metadata": {},
   "outputs": [],
   "source": [
    "import math\n",
    "math.isclose([...])"
   ]
  },
  {
   "cell_type": "markdown",
   "metadata": {},
   "source": [
    "### 1.5.2. The infinite float\n",
    "\n",
    "Unlike integers that are unbounded in Python (within the limits of computing power of your computer), a float can reach a maximum that is considered to be the ∞ value.\n",
    "\n",
    "The scientific notation `2e5` is a float equal to `2*(10**5)`. As an example, `2e600` is above the maximum float that can be stored in 64bits computers and will thus be considere as being ∞.\n",
    "\n",
    "You can check if a float is finite or infinite with function `isfinite` from module `math`.\n",
    "\n",
    "Unlike with the module `math` here above, we propose to use this time the second import method `from..import` to import  `isfinite` from module `math`. Then check if `2e600` is a finite float."
   ]
  },
  {
   "cell_type": "code",
   "execution_count": null,
   "metadata": {},
   "outputs": [],
   "source": [
    "from math import isfinite\n",
    "isfinite([...])"
   ]
  },
  {
   "cell_type": "markdown",
   "metadata": {},
   "source": [
    "Once a variable has reached ∞ there is not point in resuming calculus, it will remain an infinite value forever."
   ]
  },
  {
   "cell_type": "markdown",
   "metadata": {},
   "source": [
    "### 1.5.3. The Not-a-Number (NaN) float\n"
   ]
  },
  {
   "cell_type": "markdown",
   "metadata": {},
   "source": [
    "When performing calculus, a variable may leave the validity domain of some mathematical functions. In that case, either:\n",
    "\n",
    "\n",
    "* This function will raise an exception, for instance `ZeroDivisionError` if you divide by zero. That will interrupt the program.\n",
    "\n",
    "* This function will not interrupt the program but return the \"Not-a-Number\", abbreviated as `NaN` .\n",
    "\n",
    "For instance, 0 times ∞ is not a number. Try it hereunder:"
   ]
  },
  {
   "cell_type": "code",
   "execution_count": null,
   "metadata": {},
   "outputs": [],
   "source": []
  },
  {
   "cell_type": "markdown",
   "metadata": {},
   "source": [
    "The main benefif of `nan` is that it can be used in calcul in any circumptance, with no risk to interrupt the program. However any calculus with `nan` will always lead to a `nan` result, for instance `10 + 0*float('inf')`.\n",
    "\n",
    "That is why it is safe to check after some calculus if the computed value is meaningful. For instance in a billing system it would be abnormal to generate a PDF invoice with a total of $`nan`..."
   ]
  },
  {
   "cell_type": "code",
   "execution_count": null,
   "metadata": {},
   "outputs": [],
   "source": []
  }
 ],
 "metadata": {
  "kernelspec": {
   "display_name": "Python 3",
   "language": "python",
   "name": "python3"
  },
  "language_info": {
   "codemirror_mode": {
    "name": "ipython",
    "version": 3
   },
   "file_extension": ".py",
   "mimetype": "text/x-python",
   "name": "python",
   "nbconvert_exporter": "python",
   "pygments_lexer": "ipython3",
   "version": "3.8.10"
  }
 },
 "nbformat": 4,
 "nbformat_minor": 4
}
